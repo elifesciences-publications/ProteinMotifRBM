{
 "cells": [
  {
   "cell_type": "markdown",
   "metadata": {},
   "source": [
    "# Hsp70 protein Notebook\n",
    "The Hsp70 protein is chaperone protein; they can assist folding and assembly of newly synthesized proteins, trigger refolding cycles of misfolded proteins, transport unfolded proteins through organelle membranes, and when necessary, deliver non-functional proteins to the proteasome, endosome or lysosome for recycling.\n",
    "Hsp70 genes differ by organism, location of expression (Nucleus/Cytoplasm, Mitochondria, ER, Chloroplasta), mode of expression (stress-induced or constitutive), substrate specificity (Target regular proteins or Iron-Sulfur cluster proteins,...). Here, RBM are used to highlight automatically the main differences between the subfamilies.\n",
    "\n"
   ]
  },
  {
   "cell_type": "markdown",
   "metadata": {},
   "source": [
    "# Loading data and packages"
   ]
  },
  {
   "cell_type": "code",
   "execution_count": null,
   "metadata": {
    "collapsed": false
   },
   "outputs": [
    {
     "name": "stderr",
     "output_type": "stream",
     "text": [
      "/users/tubiana/anaconda/lib/python2.7/site-packages/scipy/special/__init__.py:640: RuntimeWarning: numpy.dtype size changed, may indicate binary incompatibility. Expected 96, got 88\n",
      "  from ._ufuncs import *\n",
      "/users/tubiana/anaconda/lib/python2.7/site-packages/scipy/linalg/basic.py:17: RuntimeWarning: numpy.dtype size changed, may indicate binary incompatibility. Expected 96, got 88\n",
      "  from ._solve_toeplitz import levinson\n",
      "/users/tubiana/anaconda/lib/python2.7/site-packages/scipy/linalg/__init__.py:207: RuntimeWarning: numpy.dtype size changed, may indicate binary incompatibility. Expected 96, got 88\n",
      "  from ._decomp_update import *\n",
      "/users/tubiana/anaconda/lib/python2.7/site-packages/scipy/special/_ellip_harm.py:7: RuntimeWarning: numpy.dtype size changed, may indicate binary incompatibility. Expected 96, got 88\n",
      "  from ._ellip_harm_2 import _ellipsoid, _ellipsoid_norm\n",
      "/users/tubiana/anaconda/lib/python2.7/site-packages/scipy/sparse/lil.py:19: RuntimeWarning: numpy.dtype size changed, may indicate binary incompatibility. Expected 96, got 88\n",
      "  from . import _csparsetools\n",
      "/users/tubiana/anaconda/lib/python2.7/site-packages/scipy/sparse/csgraph/__init__.py:165: RuntimeWarning: numpy.dtype size changed, may indicate binary incompatibility. Expected 96, got 88\n",
      "  from ._shortest_path import shortest_path, floyd_warshall, dijkstra,\\\n",
      "/users/tubiana/anaconda/lib/python2.7/site-packages/scipy/sparse/csgraph/_validation.py:5: RuntimeWarning: numpy.dtype size changed, may indicate binary incompatibility. Expected 96, got 88\n",
      "  from ._tools import csgraph_to_dense, csgraph_from_dense,\\\n",
      "/users/tubiana/anaconda/lib/python2.7/site-packages/scipy/sparse/csgraph/__init__.py:167: RuntimeWarning: numpy.dtype size changed, may indicate binary incompatibility. Expected 96, got 88\n",
      "  from ._traversal import breadth_first_order, depth_first_order, \\\n",
      "/users/tubiana/anaconda/lib/python2.7/site-packages/scipy/sparse/csgraph/__init__.py:169: RuntimeWarning: numpy.dtype size changed, may indicate binary incompatibility. Expected 96, got 88\n",
      "  from ._min_spanning_tree import minimum_spanning_tree\n",
      "/users/tubiana/anaconda/lib/python2.7/site-packages/scipy/sparse/csgraph/__init__.py:170: RuntimeWarning: numpy.dtype size changed, may indicate binary incompatibility. Expected 96, got 88\n",
      "  from ._reordering import reverse_cuthill_mckee, maximum_bipartite_matching, \\\n",
      "/users/tubiana/anaconda/lib/python2.7/site-packages/matplotlib/font_manager.py:1297: UserWarning: findfont: Font family [u'Arial'] not found. Falling back to DejaVu Sans\n",
      "  (prop.get_family(), self.defaultFamily[fontext]))\n",
      "/users/tubiana/anaconda/lib/python2.7/site-packages/matplotlib/__init__.py:1401: UserWarning:  This call to matplotlib.use() has no effect\n",
      "because the backend has already been chosen;\n",
      "matplotlib.use() must be called *before* pylab, matplotlib.pyplot,\n",
      "or matplotlib.backends is imported for the first time.\n",
      "\n",
      "  warnings.warn(_use_error_msg)\n"
     ]
    }
   ],
   "source": [
    "%matplotlib inline\n",
    "import sys,os,pickle\n",
    "import numpy as np\n",
    "import pandas as pd\n",
    "import matplotlib.pyplot as plt\n",
    "sys.path.append('RBM/')\n",
    "sys.path.append('utilities/')\n",
    "\n",
    "try:\n",
    "    import rbm\n",
    "except:\n",
    "    print 'Compiling cy_utilities first' # the RBM package contains cython files that must be compiled first.\n",
    "    curr_dir = os.getcwd()\n",
    "    os.chdir('RBM/')\n",
    "    !python setup.py build_ext --inplace\n",
    "    print 'Compilation done'\n",
    "    os.chdir(curr_dir)\n",
    "    import rbm\n",
    "\n",
    "\n",
    "import Proteins_utils, Proteins_RBM_utils, utilities,sequence_logo,plots_utils\n",
    "\n",
    "\n",
    "filename = 'Hsp70_protein_MSA.fasta'\n",
    "path = u'data/Hsp70/'\n",
    "\n",
    "all_data, all_labels = Proteins_utils.load_FASTA(path+filename, with_labels = True)\n",
    "\n",
    "env = pickle.load(open(path+'Hsp70_info.data'))\n",
    "for key,item in env.items():\n",
    "    globals()[key] = item"
   ]
  },
  {
   "cell_type": "markdown",
   "metadata": {},
   "source": [
    "# Training"
   ]
  },
  {
   "cell_type": "code",
   "execution_count": null,
   "metadata": {
    "collapsed": false
   },
   "outputs": [
    {
     "name": "stdout",
     "output_type": "stream",
     "text": [
      "Starting epoch 1\n",
      "Starting epoch 2\n",
      "Starting epoch 198\n",
      "Starting epoch 199\n",
      "Starting epoch 200\n",
      "Starting epoch 201\n",
      "Starting epoch 202\n",
      "Starting epoch 203\n",
      "Starting epoch 204\n",
      "Starting epoch 205\n",
      "Starting epoch 206\n",
      "Starting epoch 207\n",
      "Starting epoch 208\n",
      "Starting epoch 209\n"
     ]
    }
   ],
   "source": [
    "make_training = True\n",
    "\n",
    "n_v = 675 # Number of visible units; = # sites in alignment.\n",
    "n_h = 200 # Number of hidden units.\n",
    "visible = 'Potts' # Nature of visible units potential. Here, Potts states...\n",
    "n_cv = 21 # With n_cv = 21 colors (all possible amino acids + gap)\n",
    "hidden = 'dReLU' # Nature of hidden units potential. Here, dReLU potential.\n",
    "seed = 0 # Random seed (optional)\n",
    "\n",
    "if make_training: # Make full training.\n",
    "    RBM = rbm.RBM(visible = visible,hidden = hidden,n_v = n_v,n_h = n_h, n_cv = n_cv, random_state = seed)\n",
    "    batch_size = 100 # Size of mini-batches (and number of Markov chains used). Default: 100. Value for RBM shown in paper: 300\n",
    "    n_iter = 305 # Number of epochs. Value for RBM shown in paper: 305\n",
    "    learning_rate = 0.1 # Initial learning rate (default: 0.1). Value for RBM shown in paper: 0.1\n",
    "    decay_after = 0.33 # Decay learning rate after 33% of iterations (default: 0.5). Value for RBM shown in paper: 0.33\n",
    "    l1b = 0.8 # L1b regularization. Default : 0. Value for RBM shown in paper: 0.8\n",
    "    N_MC = 1 # Number of Monte Carlo steps between each update. Value for RBM shown in paper: 1\n",
    "\n",
    "    RBM.fit(all_data[in_train][order_train], weights= all_weights[in_train][order_train], batch_size = batch_size,\n",
    "        n_iter = n_iter, l1b = l1b, N_MC = N_MC, \n",
    "       decay_after = decay_after, verbose = 0 )\n",
    "else:\n",
    "    RBM = Proteins_RBM_utils.loadRBM('models/RBM_Hsp70_Protein.data') ## Alternative: Load previous model (unzip first).\n"
   ]
  },
  {
   "cell_type": "markdown",
   "metadata": {},
   "source": [
    "## Visualizing hidden units: Sequence logo of weights\n",
    "Show sequence logos of some selected weights. Here, features reflect the structural constraint, as well as phylogenic diversity.\n",
    "\n",
    "\n",
    "- Feature 1: Short loop on the NBD, discriminating between Prokaryotic DnaK and Eukaryotic Mitochondrial/Chloroplastal Hsp70 from Prokaryotic HSc.A and other Eukaryotic Hsp70. Linked to ATP exchange rate and  NEF co-chaperone specificity.\n",
    "- Feature 2: A short motif on the beta strand of the SBD, putatively linked to substrate specificity.\n",
    "- Feature 3: An interdomain feature, at the interface between the LID and SBD domains.\n",
    "- Feature 4: An interdomain feature, at the interface between the NBD and SBD domains. Discriminates non-allosteric Hsp70 (aka Hsp110) from the others.\n",
    "- Feature 5: A feature localized on the unstructured tail of the protein. Putatively linked to DnaJ co-chaperone specificity.\n",
    "- Feature 6: Very Short loop on the NBD, discriminating between Prokaryotic HScA and the rest. Linked to ATP exchange rate and  NEF co-chaperone specificity.\n",
    "- Feature 7: A variant of the NBD loop for Prokaryotic DNaKs. Putatively linked to NEF specificity.\n",
    "- Feature 8: An interdomain feature discriminating Eukaryotic Hsp70 expressed in Endoplasmic Reticulum from the rest.\n",
    "- Feature 9: Another interdomain feature discriminating non-allosteric Hsp70 from the others.\n",
    "- Feature 10: A 'Dimeric' feature, whose important sites are separated in the ATP/ADP conformation, but close in the dimer.\n"
   ]
  },
  {
   "cell_type": "code",
   "execution_count": null,
   "metadata": {
    "collapsed": false
   },
   "outputs": [],
   "source": [
    "if make_training:\n",
    "    interesting = [100, # short loop, NBD\n",
    "                   12, # beta-strans, SBD\n",
    "                   89, # LID-SBD interdomain\n",
    "                   160, # NBD-SBD interdomain, Allosteric-specific unit\n",
    "                   186, # Unstructured tail\n",
    "                   91, # Very short loop, NBD\n",
    "                   137, # long loop variant, NBD\n",
    "                   2, # ER-specific unit\n",
    "                   170, # Allosteric-specific unit #2\n",
    "                   88] # Dimer mode\n",
    "else:\n",
    "    interesting = [3, # short loop, NBD\n",
    "                   74, # beta-strans, SBD\n",
    "                   120, # LID-SBD interdomain\n",
    "                   52, # NBD-SBD interdomain, Allosteric-specific unit\n",
    "                   71, # Unstructured tail\n",
    "                   183, # Very short loop, NBD\n",
    "                   137, # long loop variant, NBD\n",
    "                   139, # ER-specific unit\n",
    "                   152, # Allosteric-specific unit #2\n",
    "                   88] # Dimer mode\n",
    "\n",
    "fig, _ = sequence_logo.Sequence_logo_breaks(RBM.weights[interesting[0]],ylabel = 'Weights #1',theta_important=0.4);\n",
    "fig, _ = sequence_logo.Sequence_logo_breaks(RBM.weights[interesting[1]],ylabel = 'Weights #2',selected = range(450,475));\n",
    "fig, _ = sequence_logo.Sequence_logo_breaks(RBM.weights[interesting[2]],ylabel = 'Weights #3',theta_important=0.4,nrows=3);\n",
    "fig, _ = sequence_logo.Sequence_logo_breaks(RBM.weights[interesting[3]],ylabel = 'Weights #4',theta_important=0.4,nrows=3);\n",
    "fig, _ = sequence_logo.Sequence_logo_breaks(RBM.weights[interesting[4]],ylabel = 'Weights #5',theta_important=0.4,nrows=1);\n",
    "fig, _ = sequence_logo.Sequence_logo_breaks(RBM.weights[interesting[5]],ylabel = 'Weights #6',theta_important=0.4,nrows=1);\n",
    "fig, _ = sequence_logo.Sequence_logo_breaks(RBM.weights[interesting[6]],ylabel = 'Weights #7',theta_important=0.4,nrows=1);\n",
    "fig, _ = sequence_logo.Sequence_logo_breaks(RBM.weights[interesting[7]],ylabel = 'Weights #8',theta_important=0.4,nrows=3);\n",
    "fig, _ = sequence_logo.Sequence_logo_breaks(RBM.weights[interesting[8]],ylabel = 'Weights #9',theta_important=0.4,nrows=3);\n",
    "fig, _ = sequence_logo.Sequence_logo_breaks(RBM.weights[interesting[9]],ylabel = 'Weights #10',theta_important=0.4,nrows=3);\n",
    "\n"
   ]
  },
  {
   "cell_type": "markdown",
   "metadata": {},
   "source": [
    "## Visualizing hidden units: Distribution of inputs and non-linearity.\n",
    "Protein sequences cluster according to the projections onto the weights."
   ]
  },
  {
   "cell_type": "code",
   "execution_count": null,
   "metadata": {
    "collapsed": false
   },
   "outputs": [],
   "source": [
    "I = RBM.input_hiddens(all_data) # compute hidden unit input.\n",
    "# Show inputs histogram and conditional means\n",
    "plots_utils.plot_input_mean(RBM,I, interesting,ncols=2); "
   ]
  },
  {
   "cell_type": "markdown",
   "metadata": {},
   "source": [
    "## Visualizing hidden units: Phylogenic activity.\n",
    "Are the features active across all, or only a portion of the phylogenic tree ? To assess this, we pick for each hidden unit the 20 sequences with highest $I_\\mu$ (or lowest, depending on the sign of the non-linearity), and compute the distances between each pair. We compare to the background distribution of pairwise distances"
   ]
  },
  {
   "cell_type": "code",
   "execution_count": null,
   "metadata": {
    "collapsed": false
   },
   "outputs": [],
   "source": [
    "# Compute histogram of distances between top-activating sequences.\n",
    "plots_utils.plot_top_activating_distance(RBM, I,all_data,interesting,ncols=2);"
   ]
  },
  {
   "cell_type": "markdown",
   "metadata": {},
   "source": [
    "# Identification of Functional Subgroups \n"
   ]
  },
  {
   "cell_type": "code",
   "execution_count": null,
   "metadata": {
    "collapsed": false
   },
   "outputs": [],
   "source": [
    "## Scatter plot: [short/long loop] vs [SBD beta strand]\n",
    "I_background = I\n",
    "\n",
    "classified = is_dnak | is_hsca | is_nucleus_cyto | is_mitochondrial | is_chloroplastal | is_ER | is_non_allosteric\n",
    "print classified.sum()\n",
    "\n",
    "\n",
    "\n",
    "labels_classes = np.asarray(is_dnak * 0 + is_hsca * 1 + is_nucleus_cyto * 2 +is_ER * 5 + is_non_allosteric*6+ \\\n",
    "+ is_mitochondrial * 3 + is_chloroplastal*4,dtype='int')\n",
    "\n",
    "labels_classes = labels_classes[classified]\n",
    "I_test = I_background[classified]\n",
    "\n",
    "\n",
    "labels_names = ['DnaK (P)','HscA (P)','Nucleus/Cyto (E)', 'Mitochondria (E)',\n",
    "                'Chloroplasta (E)', 'ER (E)','Non-allosteric (E)']\n",
    "\n",
    "\n",
    "\n",
    "\n",
    "axis_labels1 = [r'$I_{%s}$'%(i+1) for i in range(2)]\n",
    "axis_labels2 = ['Short Loop', 'SBD beta strand']\n",
    "axis_labels = [[x + ' (' + y +')' for x,y in zip(axis_labels1,axis_labels2)]]\n",
    "\n",
    "\n",
    "\n",
    "fig = plots_utils.plot_input_classes_scatter([[interesting[0],interesting[1]]],I_background, I_test, labels_classes,  label_names=labels_names, axis_labels=axis_labels,\n",
    "              figsize=[8,6], fontsize=20,ncols_legend=2,xlim=None,ylim=[[-12,15]],label_background='UniprotKB');\n",
    "\n"
   ]
  },
  {
   "cell_type": "code",
   "execution_count": null,
   "metadata": {
    "collapsed": false
   },
   "outputs": [],
   "source": [
    "## All input histograms\n",
    "ncols = 3\n",
    "\n",
    "xlabels1 = [r'$I_{%s}$'%(i+1) for i in range(10)]\n",
    "xlabels2 = ['Short Loop', 'SBD beta strand', 'LID/SBD','Non-allosteric','Unstructured tail',\n",
    "           'Very short loop','Loop variant','ER-specific','Non-allosteric 2', 'Dimer']\n",
    "\n",
    "xlabels = [x + ' (' + y +')' for x,y in zip(xlabels1,xlabels2)]\n",
    "\n",
    "\n",
    "fig = plots_utils.plot_input_classes(interesting,I_background,I_test,labels_classes,\n",
    "                                     label_names=labels_names,nbins=25,label_background='UniprotKB',\n",
    "                                     ncols=3,xlabels=xlabels);\n",
    "\n"
   ]
  },
  {
   "cell_type": "code",
   "execution_count": null,
   "metadata": {
    "collapsed": false
   },
   "outputs": [],
   "source": [
    "## Some input scatter plots\n",
    "\n",
    "liste_interestings = [(0,1),\n",
    "                     (0,5),\n",
    "                     (0,6),\n",
    "                     (0,7),\n",
    "                     (1,2),\n",
    "                     (1,9),\n",
    "                     (3,8),\n",
    "                     (3,2),\n",
    "                     (3,9)]\n",
    "\n",
    "interestings = [ (interesting[linteresting[0]],interesting[linteresting[1]]) for linteresting in liste_interestings ]\n",
    "\n",
    "\n",
    "xlabels1 = [r'$I_{%s}$'%(i+1) for i in range(10)]\n",
    "xlabels2 = ['Short Loop', 'SBD beta strand', 'LID/SBD','Non-allosteric','Unstructured tail',\n",
    "           'Very short loop','Loop variant','ER-specific','Non-allosteric 2', 'Dimer']\n",
    "\n",
    "xlabels = [x + ' (' + y +')' for x,y in zip(xlabels1,xlabels2)]\n",
    "\n",
    "axis_labels = [(xlabels[linteresting[0]],xlabels[linteresting[1]]) for linteresting in liste_interestings]\n",
    "\n",
    "\n",
    "fig = plots_utils.plot_input_classes_scatter(interestings,I_background, I_test, labels_classes,  label_names=labels_names,\n",
    "              figsize=5, fontsize=15,ncols=3,label_background='UniprotKB',\n",
    "              axis_labels = axis_labels);\n"
   ]
  },
  {
   "cell_type": "code",
   "execution_count": null,
   "metadata": {
    "collapsed": false
   },
   "outputs": [],
   "source": [
    "# Allosteric vs non-allosteric (Input I4)\n",
    "labels_classes = np.asarray(is_non_allosteric*1,dtype='int')\n",
    "labels_classes = labels_classes[classified]\n",
    "labels_names = ['Allosteric','Non-allosteric']\n",
    "ncols = 1\n",
    "xlabels1 = [r'$I_{%s}$'%(i+1) for i in range(3,4)]\n",
    "xlabels2 = ['Non-allosteric']\n",
    "\n",
    "xlabels = [x + ' (' + y +')' for x,y in zip(xlabels1,xlabels2)]\n",
    "\n",
    "I_test = I_background[classified]\n",
    "\n",
    "fig = plots_utils.plot_input_classes([interesting[3]],I_background,I_test,labels_classes,label_names=labels_names,nbins=25,label_background='UniprotKB',ncols=1,xlabels=xlabels);\n",
    "\n",
    "\n"
   ]
  },
  {
   "cell_type": "markdown",
   "metadata": {},
   "source": [
    "# A null model for the tail: Check enrichment of the tail in hydrophilic or hydrophobic amino-acids.\n",
    "Do we find sequences with an hydrophilic-rich (resp. tiny-rich) unstructured tail, or they are expected from an independent model with variable tail length ?\n",
    "We compare observed statistics with a Monte Carlo simulation with null model..."
   ]
  },
  {
   "cell_type": "code",
   "execution_count": null,
   "metadata": {
    "collapsed": false
   },
   "outputs": [],
   "source": [
    "\n",
    "surface_sites = np.nonzero(np.abs(RBM.weights[interesting[4]]).sum(-1) > 0.5)[0]\n",
    "num_sites = len(surface_sites)\n",
    "\n",
    "seq_num_sites = (all_data[:,surface_sites] <> 20).sum(1)\n",
    "seq_num_tiny =  ((all_data[:,surface_sites] == Proteins_utils.aadict['A']) | (all_data[:,surface_sites] == Proteins_utils.aadict['G']) ).sum(-1)\n",
    "\n",
    "seq_num_hydrophilic =  ((all_data[:,surface_sites] == Proteins_utils.aadict['E']) \\\n",
    "| (all_data[:,surface_sites] == Proteins_utils.aadict['K']) | (all_data[:,surface_sites] == Proteins_utils.aadict['R'])\\\n",
    "| (all_data[:,surface_sites] == Proteins_utils.aadict['S']) | (all_data[:,surface_sites] == Proteins_utils.aadict['N'])\\\n",
    "| (all_data[:,surface_sites] == Proteins_utils.aadict['T']) ).sum(-1)\n",
    "\n",
    "\n",
    "\n",
    "\n",
    "seq_frac_hydrophilic = seq_num_hydrophilic/(1e-10+seq_num_sites)\n",
    "seq_frac_tiny = seq_num_tiny/(1e-10+seq_num_sites)\n",
    "\n",
    "lengths = np.arange(1,num_sites+1)\n",
    "probas = np.array([(seq_num_sites == length).sum() for length in lengths])\n",
    "probas= 1.0 * probas/probas.sum()\n",
    "\n",
    "\n",
    "\n",
    "mu_hydrophilic = (seq_frac_hydrophilic ).mean()\n",
    "mu_tiny = (seq_frac_tiny ).mean()\n",
    "\n",
    "MC = 50000\n",
    "\n",
    "all_mus = []\n",
    "all_weights = []\n",
    "all_lengths = []\n",
    "for length,proba in zip(lengths,probas): # Null model with\n",
    "    print length\n",
    "    for _ in range(MC):\n",
    "        rng = np.random.rand(length)\n",
    "        content = np.zeros([length,1],dtype='int')\n",
    "        content[rng< mu_hydrophilic] = 0\n",
    "        content[(mu_hydrophilic <= rng) & (rng< mu_tiny +mu_hydrophilic)] = 1\n",
    "        content[rng>mu_hydrophilic+mu_tiny] = 2\n",
    "        mu = utilities.average(content,c=3)[0,:2]\n",
    "        all_mus.append(mu)\n",
    "        all_weights.append(proba)\n",
    "        all_lengths.append(length)\n",
    "\n",
    "all_mus = np.array(all_mus)\n",
    "all_weights = np.array(all_weights)\n",
    "\n",
    "\n",
    "fontsize = 12\n",
    "fontsize2 = 10\n",
    "vmax = 20\n",
    "vmax2 = 0.25\n",
    "\n",
    "fig, ax = plt.subplots(3,3)\n",
    "fig.set_figheight(12)\n",
    "fig.set_figwidth(12)\n",
    "\n",
    "\n",
    "ax[0,0].hist( [seq_frac_hydrophilic ,all_mus[:,0]],weights=[np.ones(all_data.shape[0]),all_weights],bins=num_sites,normed=True ); \n",
    "ax[0,0].legend(['HSP70','Null model'],fontsize=fontsize2);\n",
    "ax[0,0].set_title('Fraction of hydrophilic amino-acids',fontsize=fontsize);\n",
    "\n",
    "ax[0,1].hist( [seq_frac_tiny, all_mus[:,1]],weights=[np.ones(all_data.shape[0]),all_weights],bins=num_sites,normed=True );\n",
    "ax[0,1].legend(['HSP70','Null model'],fontsize=fontsize2);\n",
    "ax[0,1].set_title('Fraction of tiny amino-acids',fontsize=fontsize);\n",
    "\n",
    "\n",
    "ax[0,2].hist( [seq_num_sites, all_lengths],weights=[np.ones(all_data.shape[0]),all_weights],bins=num_sites,normed=True );\n",
    "ax[0,2].legend(['HSP70','Null model'],fontsize=fontsize2);\n",
    "ax[0,2].set_title('Tail length',fontsize=fontsize);\n",
    "\n",
    "\n",
    "\n",
    "counts,xbins,ybins,image = ax[1,0].hist2d(seq_frac_hydrophilic,seq_frac_tiny,bins=40,normed=True, range=[(0,1),(0,1)]);\n",
    "ax[1,0].contour(counts.T,extent=[xbins.min(),xbins.max(),ybins.min(),ybins.max()],linewidths=3,vmin=0,vmax=vmax);\n",
    "ax[1,0].set_xlim([0,1])\n",
    "ax[1,0].set_ylim([0,1])\n",
    "ax[1,0].set_xlabel('Fraction of hydrophilic amino-acids',fontsize=fontsize)\n",
    "ax[1,0].set_ylabel('Fraction of tiny amino-acids',fontsize=fontsize)\n",
    "ax[1,0].set_title('Tail content: HSP70')\n",
    "\n",
    "\n",
    "counts,xbins,ybins,image = ax[1,1].hist2d(seq_frac_hydrophilic,seq_num_sites,bins=[20,25],normed=True, range=[(0,1),(1,num_sites)]);\n",
    "ax[1,1].contour(counts.T,extent=[xbins.min(),xbins.max(),ybins.min(),ybins.max()],linewidths=3,vmin=0,vmax=vmax2);\n",
    "ax[1,1].set_xlim([0,1])\n",
    "ax[1,1].set_ylim([1,num_sites])\n",
    "ax[1,1].set_xlabel('Fraction of hydrophilic amino-acids',fontsize=fontsize)\n",
    "ax[1,1].set_ylabel('Tail length',fontsize=fontsize)\n",
    "ax[1,1].set_title('Tail content: HSP70')\n",
    "\n",
    "\n",
    "counts,xbins,ybins,image = ax[1,2].hist2d(seq_frac_tiny,seq_num_sites,bins=[20,25],normed=True, range=[(0,1),(1,num_sites)]);\n",
    "ax[1,2].contour(counts.T,extent=[xbins.min(),xbins.max(),ybins.min(),ybins.max()],linewidths=3,vmin=0,vmax=vmax2);\n",
    "ax[1,2].set_xlim([0,1])\n",
    "ax[1,2].set_ylim([1,num_sites])\n",
    "ax[1,2].set_xlabel('Fraction of tiny amino-acids',fontsize=fontsize)\n",
    "ax[1,2].set_ylabel('Tail length',fontsize=fontsize)\n",
    "ax[1,2].set_title('Tail content: HSP70')\n",
    "\n",
    "\n",
    "counts,xbins,ybins,image = ax[2,0].hist2d(all_mus[:,0],all_mus[:,1],weights=all_weights,bins=40,normed=True, range=[(0,1),(0,1)]);\n",
    "ax[2,0].contour(counts.T,extent=[xbins.min(),xbins.max(),ybins.min(),ybins.max()],linewidths=3,vmin=0,vmax=vmax);\n",
    "ax[2,0].set_xlim([0,1])\n",
    "ax[2,0].set_ylim([0,1])\n",
    "ax[2,0].set_xlabel('Fraction of hydrophilic amino-acids',fontsize=fontsize)\n",
    "ax[2,0].set_ylabel('Fraction of tiny amino-acids',fontsize=fontsize)\n",
    "ax[2,0].set_title('Tail content: Null model')\n",
    "\n",
    "\n",
    "\n",
    "counts,xbins,ybins,image = ax[2,1].hist2d(all_mus[:,0],all_lengths,weights=all_weights,bins=[20,25],normed=True, range=[(0,1),(1,num_sites)]);\n",
    "ax[2,1].contour(counts.T,extent=[xbins.min(),xbins.max(),ybins.min(),ybins.max()],linewidths=3,vmin=0,vmax=vmax2);\n",
    "ax[2,1].set_ylim([1,num_sites])\n",
    "ax[2,1].set_xlim([0,1])\n",
    "ax[2,1].set_ylabel('Tail length',fontsize=fontsize)\n",
    "ax[2,1].set_xlabel('Fraction of hydrophilic amino-acids',fontsize=fontsize)\n",
    "ax[2,1].set_title('Tail content: Null model')\n",
    "\n",
    "counts,xbins,ybins,image = ax[2,2].hist2d(all_mus[:,1],all_lengths,weights=all_weights,bins=[20,25],normed=True, range=[(0,1),(1,num_sites)]);\n",
    "ax[2,2].contour(counts.T,extent=[xbins.min(),xbins.max(),ybins.min(),ybins.max()],linewidths=3,vmin=0,vmax=vmax2);\n",
    "ax[2,2].set_ylim([1,num_sites])\n",
    "ax[2,2].set_xlim([0,1])\n",
    "ax[2,2].set_ylabel('Tail length',fontsize=fontsize)\n",
    "ax[2,2].set_xlabel('Fraction of tiny amino-acids',fontsize=fontsize)\n",
    "ax[2,2].set_title('Tail content: Null model')\n",
    "\n",
    "\n",
    "\n",
    "plt.tight_layout()"
   ]
  }
 ],
 "metadata": {
  "kernelspec": {
   "display_name": "Python 2",
   "language": "python",
   "name": "python2"
  },
  "language_info": {
   "codemirror_mode": {
    "name": "ipython",
    "version": 2
   },
   "file_extension": ".py",
   "mimetype": "text/x-python",
   "name": "python",
   "nbconvert_exporter": "python",
   "pygments_lexer": "ipython2",
   "version": "2.7.13"
  }
 },
 "nbformat": 4,
 "nbformat_minor": 2
}
